{
 "cells": [
  {
   "cell_type": "code",
   "execution_count": 9,
   "metadata": {},
   "outputs": [
    {
     "name": "stdout",
     "output_type": "stream",
     "text": [
      "Construction,\n",
      " Typical Insulated Carpeted 8in Slab Floor-R5, !- name\n",
      " Typical Insulation-R4,    !- layer 1\n",
      " 8 in. Normalweight Concrete Floor, !- layer 2\n",
      " Typical Carpet Pad;       !- layer 3\n",
      "Construction,\n",
      " Window_U_0.50_SHGC_0.40_Skylight_Frame_Width_0.430_in, !- name\n",
      " Glass_2052_LayerAvg,      !- layer 1\n",
      " Gap_1_W_0_0038,           !- layer 2\n",
      " Glass_2027F_LayerAvg;     !- layer 3\n",
      "Construction,\n",
      " Typical Insulated Metal Door-R2, !- name\n",
      " F08 Metal surface,        !- layer 1\n",
      " Typical Insulation-R2;    !- layer 2\n",
      "Construction,\n",
      " Typical Overhead Door-R2, !- name\n",
      " Typical Insulation-R2;    !- layer 1\n",
      "Construction,\n",
      " Typical Insulated Basement Mass Wall-R8, !- name\n",
      " Typical Insulation-R7,    !- layer 1\n",
      " 8 in. Concrete Block Basement Wall; !- layer 2\n",
      "Construction,\n",
      " Typical IEAD Roof-R32,    !- name\n",
      " Roof Membrane,            !- layer 1\n",
      " Typical Insulation-R31,   !- layer 2\n",
      " Metal Roof Surface;       !- layer 3\n",
      "Construction,\n",
      " Typical Insulated Steel Framed Exterior Floor-R27, !- name\n",
      " 25mm Stucco,              !- layer 1\n",
      " 5/8 in. Gypsum Board,     !- layer 2\n",
      " Typical Insulation-R24,   !- layer 3\n",
      " 5/8 in. Gypsum Board,     !- layer 4\n",
      " Typical Carpet Pad;       !- layer 5\n",
      "Construction,\n",
      " U 0.48 SHGC 0.40 Dbl Ref-D Clr 6mm/13mm, !- name\n",
      " REF D CLEAR 6MM,          !- layer 1\n",
      " AIR 13MM,                 !- layer 2\n",
      " CLEAR 6MM;                !- layer 3\n",
      "Construction,\n",
      " Typical Insulated Steel Framed Exterior Wall-R19, !- name\n",
      " 25mm Stucco,              !- layer 1\n",
      " 5/8 in. Gypsum Board,     !- layer 2\n",
      " Typical Insulation-R17,   !- layer 3\n",
      " 5/8 in. Gypsum Board;     !- layer 4\n",
      "Construction,\n",
      " U 0.44 SHGC 0.26 Dbl Ref-B-H Clr 6mm/13mm Air, !- name\n",
      " REF B CLEAR HI 6MM,       !- layer 1\n",
      " AIR 13MM,                 !- layer 2\n",
      " CLEAR 6MM;                !- layer 3\n"
     ]
    }
   ],
   "source": [
    "from hbyter_tools.make_model import build_hb_objs\n",
    "import pprint\n",
    "\n",
    "my_objs = build_hb_objs(\"full_building_energy_model.hbjson\")\n",
    "\n",
    "for construction in my_objs.properties.energy.constructions:\n",
    "    print(construction)"
   ]
  },
  {
   "cell_type": "code",
   "execution_count": 10,
   "metadata": {},
   "outputs": [
    {
     "name": "stdout",
     "output_type": "stream",
     "text": [
      "[WindowMaterial:Glazing,\n",
      " Glass_2052_LayerAvg,      !- name\n",
      " SpectralAverage,          !- optical data type\n",
      " ,                         !- spectral data set name\n",
      " 0.008369999999999997,     !- thickness {m}\n",
      " 0.507767,                 !- solar transmittance\n",
      " 0.05422805,               !- solar reflectance front\n",
      " 0.05449309,               !- solar reflectance back\n",
      " 0.586833,                 !- visible transmittance\n",
      " 0.05805,                  !- visible reflectance front\n",
      " 0.058397,                 !- visible reflectance back\n",
      " 0.0,                      !- infrared_transmittance\n",
      " 0.84,                     !- emissivity front\n",
      " 0.84,                     !- emissivity back\n",
      " 0.9993312443378461,       !- conductivity {W/m-K}\n",
      " 1.0,                      !- dirt correction factor\n",
      " No;                       !- solar diffusing, WindowMaterial:Glazing,\n",
      " Glass_2027F_LayerAvg,     !- name\n",
      " SpectralAverage,          !- optical data type\n",
      " ,                         !- spectral data set name\n",
      " 0.003999999999999977,     !- thickness {m}\n",
      " 0.369744,                 !- solar transmittance\n",
      " 0.4700695,                !- solar reflectance front\n",
      " 0.340935,                 !- solar reflectance back\n",
      " 0.765222,                 !- visible transmittance\n",
      " 0.0546,                   !- visible reflectance front\n",
      " 0.073741,                 !- visible reflectance back\n",
      " 0.0,                      !- infrared_transmittance\n",
      " 0.03675,                  !- emissivity front\n",
      " 0.84,                     !- emissivity back\n",
      " 0.9993312443378461,       !- conductivity {W/m-K}\n",
      " 1.0,                      !- dirt correction factor\n",
      " No;                       !- solar diffusing, WindowMaterial:Gas,\n",
      " Gap_1_W_0_0038,           !- name\n",
      " Air,                      !- gas type\n",
      " 0.0037999999999999887;    !- thickness {m}]\n"
     ]
    }
   ],
   "source": [
    "cons = [construction for construction in my_objs.properties.energy.constructions]\n",
    "print(cons[1].unique_materials)"
   ]
  },
  {
   "cell_type": "code",
   "execution_count": 18,
   "metadata": {},
   "outputs": [
    {
     "name": "stdout",
     "output_type": "stream",
     "text": [
      "[Program Type: 2013::MediumOffice::Conference, Program Type: 2013::Laboratory::Office, Program Type: 2013::MediumOffice::ClosedOffice, Program Type: 2013::MediumOffice::Classroom, Program Type: 2013::MediumOffice::Storage, Program Type: 2013::Laboratory::Open lab, Program Type: 2013::Laboratory::Lab with fume hood, Program Type: 2013::MediumOffice::Corridor]\n"
     ]
    }
   ],
   "source": [
    "progs = [prog for prog in my_objs.properties.energy.program_types]\n",
    "print(progs)"
   ]
  },
  {
   "cell_type": "code",
   "execution_count": null,
   "metadata": {},
   "outputs": [],
   "source": []
  }
 ],
 "metadata": {
  "interpreter": {
   "hash": "6fcb1363cbfa9646aa761edd5c30080c43c9b98f16544a3602d221fcb7d0f52e"
  },
  "kernelspec": {
   "display_name": "Python 3.9.5 64-bit ('.env': venv)",
   "name": "python3"
  },
  "language_info": {
   "codemirror_mode": {
    "name": "ipython",
    "version": 3
   },
   "file_extension": ".py",
   "mimetype": "text/x-python",
   "name": "python",
   "nbconvert_exporter": "python",
   "pygments_lexer": "ipython3",
   "version": "3.9.5"
  },
  "orig_nbformat": 4
 },
 "nbformat": 4,
 "nbformat_minor": 2
}
