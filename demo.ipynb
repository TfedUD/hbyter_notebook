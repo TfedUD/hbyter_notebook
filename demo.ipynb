{
 "cells": [
  {
   "cell_type": "code",
   "execution_count": 3,
   "metadata": {},
   "outputs": [
    {
     "name": "stdout",
     "output_type": "stream",
     "text": [
      "Construction,\n",
      " U 0.48 SHGC 0.40 Dbl Ref-D Clr 6mm/13mm, !- name\n",
      " REF D CLEAR 6MM,          !- layer 1\n",
      " AIR 13MM,                 !- layer 2\n",
      " CLEAR 6MM;                !- layer 3\n",
      "Construction,\n",
      " Typical Insulated Basement Mass Wall-R8, !- name\n",
      " Typical Insulation-R7,    !- layer 1\n",
      " 8 in. Concrete Block Basement Wall; !- layer 2\n",
      "Construction,\n",
      " Window_U_0.50_SHGC_0.40_Skylight_Frame_Width_0.430_in, !- name\n",
      " Glass_2052_LayerAvg,      !- layer 1\n",
      " Gap_1_W_0_0038,           !- layer 2\n",
      " Glass_2027F_LayerAvg;     !- layer 3\n",
      "Construction,\n",
      " Typical Insulated Steel Framed Exterior Floor-R27, !- name\n",
      " 25mm Stucco,              !- layer 1\n",
      " 5/8 in. Gypsum Board,     !- layer 2\n",
      " Typical Insulation-R24,   !- layer 3\n",
      " 5/8 in. Gypsum Board,     !- layer 4\n",
      " Typical Carpet Pad;       !- layer 5\n",
      "Construction,\n",
      " U 0.44 SHGC 0.26 Dbl Ref-B-H Clr 6mm/13mm Air, !- name\n",
      " REF B CLEAR HI 6MM,       !- layer 1\n",
      " AIR 13MM,                 !- layer 2\n",
      " CLEAR 6MM;                !- layer 3\n",
      "Construction,\n",
      " Typical Insulated Carpeted 8in Slab Floor-R5, !- name\n",
      " Typical Insulation-R4,    !- layer 1\n",
      " 8 in. Normalweight Concrete Floor, !- layer 2\n",
      " Typical Carpet Pad;       !- layer 3\n",
      "Construction,\n",
      " Typical Overhead Door-R2, !- name\n",
      " Typical Insulation-R2;    !- layer 1\n",
      "Construction,\n",
      " Typical Insulated Steel Framed Exterior Wall-R19, !- name\n",
      " 25mm Stucco,              !- layer 1\n",
      " 5/8 in. Gypsum Board,     !- layer 2\n",
      " Typical Insulation-R17,   !- layer 3\n",
      " 5/8 in. Gypsum Board;     !- layer 4\n",
      "Construction,\n",
      " Typical IEAD Roof-R32,    !- name\n",
      " Roof Membrane,            !- layer 1\n",
      " Typical Insulation-R31,   !- layer 2\n",
      " Metal Roof Surface;       !- layer 3\n",
      "Construction,\n",
      " Typical Insulated Metal Door-R2, !- name\n",
      " F08 Metal surface,        !- layer 1\n",
      " Typical Insulation-R2;    !- layer 2\n"
     ]
    }
   ],
   "source": [
    "from hbyter_tools.make_model import build_hb_objs\n",
    "\n",
    "my_objs = build_hb_objs(\"full_building_energy_model.hbjson\")\n",
    "\n",
    "for construction in my_objs.properties.energy.constructions:\n",
    "    print(construction)"
   ]
  },
  {
   "cell_type": "code",
   "execution_count": 17,
   "metadata": {},
   "outputs": [
    {
     "name": "stdout",
     "output_type": "stream",
     "text": [
      "[Material:NoMass,\n",
      " Typical Insulation-R7,    !- name\n",
      " MediumSmooth,             !- roughness\n",
      " 1.2327712866691938,       !- r-value {m2-K/W}\n",
      " 0.9,                      !- thermal absorptance\n",
      " 0.7,                      !- solar absorptance\n",
      " 0.7;                      !- visible absorptance, Material,\n",
      " 8 in. Concrete Block Basement Wall, !- name\n",
      " MediumRough,              !- roughness\n",
      " 0.2032,                   !- thickness {m}\n",
      " 1.325113229991986,        !- conductivity {W/m-K}\n",
      " 1842.0042117126811,       !- density {kg/m3}\n",
      " 911.4119570053389,        !- specific heat {J/kg-K}\n",
      " 0.9,                      !- thermal absorptance\n",
      " 0.7,                      !- solar absorptance\n",
      " 0.7;                      !- visible absorptance]\n"
     ]
    }
   ],
   "source": [
    "cons = [construction for construction in my_objs.properties.energy.constructions]\n",
    "print(cons[1].unique_materials)"
   ]
  },
  {
   "cell_type": "code",
   "execution_count": 18,
   "metadata": {},
   "outputs": [
    {
     "ename": "AttributeError",
     "evalue": "Failed to set thickness to 0.3. thickness cannot be set on OpaqueConstruction while it is locked.\nThe unlock() method can unlock the class but you do so at your own risk.\nObjects are typically locked when they are referenced from several other objects.\n So it is usually better practice tomake a new instance of OpaqueConstruction and proceed using that.",
     "output_type": "error",
     "traceback": [
      "\u001b[1;31m---------------------------------------------------------------------------\u001b[0m",
      "\u001b[1;31mAttributeError\u001b[0m                            Traceback (most recent call last)",
      "\u001b[1;32m~\\AppData\\Local\\Temp/ipykernel_35580/3271512148.py\u001b[0m in \u001b[0;36m<module>\u001b[1;34m\u001b[0m\n\u001b[1;32m----> 1\u001b[1;33m \u001b[0mcons\u001b[0m\u001b[1;33m[\u001b[0m\u001b[1;36m1\u001b[0m\u001b[1;33m]\u001b[0m\u001b[1;33m.\u001b[0m\u001b[0mthickness\u001b[0m \u001b[1;33m=\u001b[0m \u001b[1;36m0.3\u001b[0m\u001b[1;33m\u001b[0m\u001b[1;33m\u001b[0m\u001b[0m\n\u001b[0m\u001b[0;32m      2\u001b[0m \u001b[0mprint\u001b[0m\u001b[1;33m(\u001b[0m\u001b[0mcons\u001b[0m\u001b[1;33m[\u001b[0m\u001b[1;36m1\u001b[0m\u001b[1;33m]\u001b[0m\u001b[1;33m)\u001b[0m\u001b[1;33m\u001b[0m\u001b[1;33m\u001b[0m\u001b[0m\n",
      "\u001b[1;32md:\\_BR+A\\_aBasecamp\\__GitReps\\hbyter_notebook\\.env\\lib\\site-packages\\honeybee\\_lockable.py\u001b[0m in \u001b[0;36mlockedsetattr\u001b[1;34m(self, key, value)\u001b[0m\n\u001b[0;32m     53\u001b[0m         \u001b[1;34m\"\"\"Method to overwrite __setattr__ on the decorated class.\"\"\"\u001b[0m\u001b[1;33m\u001b[0m\u001b[1;33m\u001b[0m\u001b[0m\n\u001b[0;32m     54\u001b[0m         \u001b[1;32mif\u001b[0m \u001b[0mhasattr\u001b[0m\u001b[1;33m(\u001b[0m\u001b[0mself\u001b[0m\u001b[1;33m,\u001b[0m \u001b[1;34m'_locked'\u001b[0m\u001b[1;33m)\u001b[0m \u001b[1;32mand\u001b[0m \u001b[0mself\u001b[0m\u001b[1;33m.\u001b[0m\u001b[0m_locked\u001b[0m \u001b[1;32mand\u001b[0m \u001b[1;32mnot\u001b[0m \u001b[0mkey\u001b[0m \u001b[1;33m==\u001b[0m \u001b[1;34m'_locked'\u001b[0m\u001b[1;33m:\u001b[0m\u001b[1;33m\u001b[0m\u001b[1;33m\u001b[0m\u001b[0m\n\u001b[1;32m---> 55\u001b[1;33m             raise AttributeError(\n\u001b[0m\u001b[0;32m     56\u001b[0m                 \u001b[1;34m'Failed to set {1} to {2}. {1} cannot be set on {0} while it is locked.'\u001b[0m\u001b[1;33m\u001b[0m\u001b[1;33m\u001b[0m\u001b[0m\n\u001b[0;32m     57\u001b[0m                 \u001b[1;34m'\\nThe unlock() method can unlock the class but you do so at '\u001b[0m\u001b[1;33m\u001b[0m\u001b[1;33m\u001b[0m\u001b[0m\n",
      "\u001b[1;31mAttributeError\u001b[0m: Failed to set thickness to 0.3. thickness cannot be set on OpaqueConstruction while it is locked.\nThe unlock() method can unlock the class but you do so at your own risk.\nObjects are typically locked when they are referenced from several other objects.\n So it is usually better practice tomake a new instance of OpaqueConstruction and proceed using that."
     ]
    }
   ],
   "source": []
  },
  {
   "cell_type": "code",
   "execution_count": null,
   "metadata": {},
   "outputs": [],
   "source": []
  }
 ],
 "metadata": {
  "interpreter": {
   "hash": "6fcb1363cbfa9646aa761edd5c30080c43c9b98f16544a3602d221fcb7d0f52e"
  },
  "kernelspec": {
   "display_name": "Python 3.9.5 64-bit ('.env': venv)",
   "name": "python3"
  },
  "language_info": {
   "codemirror_mode": {
    "name": "ipython",
    "version": 3
   },
   "file_extension": ".py",
   "mimetype": "text/x-python",
   "name": "python",
   "nbconvert_exporter": "python",
   "pygments_lexer": "ipython3",
   "version": "3.9.5"
  },
  "orig_nbformat": 4
 },
 "nbformat": 4,
 "nbformat_minor": 2
}
